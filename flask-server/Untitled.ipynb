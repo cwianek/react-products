{
 "cells": [
  {
   "cell_type": "code",
   "execution_count": 32,
   "metadata": {},
   "outputs": [],
   "source": [
    "import pymongo\n",
    "from pymongo import ReturnDocument\n",
    "import pandas as pd\n",
    "from sklearn import preprocessing\n",
    "from sklearn.neighbors import KNeighborsClassifier\n",
    "import numpy as np\n",
    "\n",
    "client = pymongo.MongoClient(\"localhost\", 27017)\n",
    "db = client.outfitPlanner\n",
    "\n",
    "dataMapper = lambda outfit: {\n",
    "    \"temp\": outfit[\"weather\"][\"temp\"],\n",
    "    \"worn_times\": getWornTimes(outfit),\n",
    "    \"clouds\": outfit[\"weather\"][\"clouds\"],\n",
    "    \"humidity\": outfit[\"weather\"][\"humidity\"],\n",
    "    \"pressure\": outfit[\"weather\"][\"pressure\"],\n",
    "    \"wind_speed\": outfit[\"weather\"][\"wind_speed\"]\n",
    "}"
   ]
  },
  {
   "cell_type": "code",
   "execution_count": 78,
   "metadata": {},
   "outputs": [],
   "source": [
    "def scale_features(X):\n",
    "    X[:, 0] *= 5\n",
    "    X[:, 1] *= 2\n",
    "    return X"
   ]
  },
  {
   "cell_type": "code",
   "execution_count": 83,
   "metadata": {},
   "outputs": [
    {
     "name": "stdout",
     "output_type": "stream",
     "text": [
      "Sorted outfits:  [(36, 0.0), (38, 0.0), (37, 1.0)]\n"
     ]
    },
    {
     "name": "stderr",
     "output_type": "stream",
     "text": [
      "c:\\users\\adam\\projekty\\outfit-planner\\flask-server\\op\\lib\\site-packages\\ipykernel_launcher.py:16: DataConversionWarning: A column-vector y was passed when a 1d array was expected. Please change the shape of y to (n_samples, ), for example using ravel().\n",
      "  app.launch_new_instance()\n"
     ]
    }
   ],
   "source": [
    "outfits = list(db.worns.find({}))\n",
    "data = [dataMapper(outfit) for outfit in outfits ]\n",
    "y_data = pd.DataFrame(outfits)\n",
    "Y = y_data.loc[:, y_data.columns == \"outfitId\"]\n",
    "\n",
    "df = pd.DataFrame(data)\n",
    "X = df.loc[:, df.columns != 'outfitId']\n",
    "#scaler = preprocessing.StandardScaler().fit(X)\n",
    "scaler = preprocessing.MinMaxScaler().fit(X)\n",
    "X_scaled = scaler.transform(X)\n",
    "\n",
    "#scale temp and worn_times\n",
    "X_scaled = scale_features(X_scaled)\n",
    "\n",
    "neigh = KNeighborsClassifier(n_neighbors=3)\n",
    "neigh.fit(X_scaled, Y)\n",
    "\n",
    "newOutfit = dict({\n",
    "    \"weather\": dict({\n",
    "        \"clouds\": 3,\n",
    "        \"humidity\": 82,\n",
    "        \"pressure\": 1004,\n",
    "        \"temp\": 22,\n",
    "        \"wind_speed\": 4.32\n",
    "    })\n",
    "})\n",
    "newOutfitWeighted = dataMapper(newOutfit)\n",
    "\n",
    "newCase = [newOutfitWeighted]\n",
    "newCaseDf = pd.DataFrame(newCase)\n",
    "scaled = scaler.transform(newCaseDf[0:1])\n",
    "scaled = scale_features(scaled)\n",
    "\n",
    "pred_proba = neigh.predict_proba(scaled)\n",
    "pred_proba = pred_proba[0]\n",
    "\n",
    "zipped = zip(neigh.classes_, pred_proba)\n",
    "sortedOutfits = sorted(zipped, key = lambda t: t[1])\n",
    "print(\"Sorted outfits: \", sortedOutfits)\n",
    "\n",
    "wornIds = [int(x[0]) for x in sortedOutfits]\n",
    "res = np.array([list(db.outfits.find({\"id\": x})) for x in wornIds]).flatten()\n",
    "outfitsNeverWorn = np.array(list(db.outfits.find({\"id\": {\"$nin\": wornIds}})))"
   ]
  },
  {
   "cell_type": "code",
   "execution_count": 60,
   "metadata": {},
   "outputs": [
    {
     "data": {
      "text/html": [
       "<div>\n",
       "<style scoped>\n",
       "    .dataframe tbody tr th:only-of-type {\n",
       "        vertical-align: middle;\n",
       "    }\n",
       "\n",
       "    .dataframe tbody tr th {\n",
       "        vertical-align: top;\n",
       "    }\n",
       "\n",
       "    .dataframe thead th {\n",
       "        text-align: right;\n",
       "    }\n",
       "</style>\n",
       "<table border=\"1\" class=\"dataframe\">\n",
       "  <thead>\n",
       "    <tr style=\"text-align: right;\">\n",
       "      <th></th>\n",
       "      <th>temp</th>\n",
       "      <th>worn_times</th>\n",
       "      <th>clouds</th>\n",
       "      <th>humidity</th>\n",
       "      <th>pressure</th>\n",
       "      <th>wind_speed</th>\n",
       "    </tr>\n",
       "  </thead>\n",
       "  <tbody>\n",
       "    <tr>\n",
       "      <th>0</th>\n",
       "      <td>12.72</td>\n",
       "      <td>3</td>\n",
       "      <td>3</td>\n",
       "      <td>82</td>\n",
       "      <td>1004</td>\n",
       "      <td>4.32</td>\n",
       "    </tr>\n",
       "    <tr>\n",
       "      <th>1</th>\n",
       "      <td>18.72</td>\n",
       "      <td>3</td>\n",
       "      <td>3</td>\n",
       "      <td>82</td>\n",
       "      <td>1004</td>\n",
       "      <td>4.32</td>\n",
       "    </tr>\n",
       "    <tr>\n",
       "      <th>2</th>\n",
       "      <td>2.72</td>\n",
       "      <td>3</td>\n",
       "      <td>3</td>\n",
       "      <td>82</td>\n",
       "      <td>1004</td>\n",
       "      <td>4.32</td>\n",
       "    </tr>\n",
       "    <tr>\n",
       "      <th>3</th>\n",
       "      <td>-2.72</td>\n",
       "      <td>3</td>\n",
       "      <td>3</td>\n",
       "      <td>82</td>\n",
       "      <td>1004</td>\n",
       "      <td>4.32</td>\n",
       "    </tr>\n",
       "    <tr>\n",
       "      <th>4</th>\n",
       "      <td>5.72</td>\n",
       "      <td>3</td>\n",
       "      <td>3</td>\n",
       "      <td>82</td>\n",
       "      <td>1004</td>\n",
       "      <td>4.32</td>\n",
       "    </tr>\n",
       "    <tr>\n",
       "      <th>5</th>\n",
       "      <td>17.72</td>\n",
       "      <td>3</td>\n",
       "      <td>3</td>\n",
       "      <td>82</td>\n",
       "      <td>1004</td>\n",
       "      <td>4.32</td>\n",
       "    </tr>\n",
       "    <tr>\n",
       "      <th>6</th>\n",
       "      <td>15.02</td>\n",
       "      <td>3</td>\n",
       "      <td>3</td>\n",
       "      <td>82</td>\n",
       "      <td>1004</td>\n",
       "      <td>4.32</td>\n",
       "    </tr>\n",
       "    <tr>\n",
       "      <th>7</th>\n",
       "      <td>10.72</td>\n",
       "      <td>3</td>\n",
       "      <td>3</td>\n",
       "      <td>82</td>\n",
       "      <td>1004</td>\n",
       "      <td>4.32</td>\n",
       "    </tr>\n",
       "    <tr>\n",
       "      <th>8</th>\n",
       "      <td>11.72</td>\n",
       "      <td>3</td>\n",
       "      <td>3</td>\n",
       "      <td>82</td>\n",
       "      <td>1004</td>\n",
       "      <td>4.32</td>\n",
       "    </tr>\n",
       "  </tbody>\n",
       "</table>\n",
       "</div>"
      ],
      "text/plain": [
       "    temp  worn_times  clouds  humidity  pressure  wind_speed\n",
       "0  12.72           3       3        82      1004        4.32\n",
       "1  18.72           3       3        82      1004        4.32\n",
       "2   2.72           3       3        82      1004        4.32\n",
       "3  -2.72           3       3        82      1004        4.32\n",
       "4   5.72           3       3        82      1004        4.32\n",
       "5  17.72           3       3        82      1004        4.32\n",
       "6  15.02           3       3        82      1004        4.32\n",
       "7  10.72           3       3        82      1004        4.32\n",
       "8  11.72           3       3        82      1004        4.32"
      ]
     },
     "execution_count": 60,
     "metadata": {},
     "output_type": "execute_result"
    }
   ],
   "source": [
    "df"
   ]
  },
  {
   "cell_type": "code",
   "execution_count": null,
   "metadata": {},
   "outputs": [],
   "source": []
  },
  {
   "cell_type": "code",
   "execution_count": 63,
   "metadata": {},
   "outputs": [
    {
     "data": {
      "text/html": [
       "<div>\n",
       "<style scoped>\n",
       "    .dataframe tbody tr th:only-of-type {\n",
       "        vertical-align: middle;\n",
       "    }\n",
       "\n",
       "    .dataframe tbody tr th {\n",
       "        vertical-align: top;\n",
       "    }\n",
       "\n",
       "    .dataframe thead th {\n",
       "        text-align: right;\n",
       "    }\n",
       "</style>\n",
       "<table border=\"1\" class=\"dataframe\">\n",
       "  <thead>\n",
       "    <tr style=\"text-align: right;\">\n",
       "      <th></th>\n",
       "      <th>outfitId</th>\n",
       "    </tr>\n",
       "  </thead>\n",
       "  <tbody>\n",
       "    <tr>\n",
       "      <th>0</th>\n",
       "      <td>36</td>\n",
       "    </tr>\n",
       "    <tr>\n",
       "      <th>1</th>\n",
       "      <td>37</td>\n",
       "    </tr>\n",
       "    <tr>\n",
       "      <th>2</th>\n",
       "      <td>38</td>\n",
       "    </tr>\n",
       "    <tr>\n",
       "      <th>3</th>\n",
       "      <td>38</td>\n",
       "    </tr>\n",
       "    <tr>\n",
       "      <th>4</th>\n",
       "      <td>38</td>\n",
       "    </tr>\n",
       "    <tr>\n",
       "      <th>5</th>\n",
       "      <td>37</td>\n",
       "    </tr>\n",
       "    <tr>\n",
       "      <th>6</th>\n",
       "      <td>37</td>\n",
       "    </tr>\n",
       "    <tr>\n",
       "      <th>7</th>\n",
       "      <td>36</td>\n",
       "    </tr>\n",
       "    <tr>\n",
       "      <th>8</th>\n",
       "      <td>36</td>\n",
       "    </tr>\n",
       "  </tbody>\n",
       "</table>\n",
       "</div>"
      ],
      "text/plain": [
       "   outfitId\n",
       "0        36\n",
       "1        37\n",
       "2        38\n",
       "3        38\n",
       "4        38\n",
       "5        37\n",
       "6        37\n",
       "7        36\n",
       "8        36"
      ]
     },
     "execution_count": 63,
     "metadata": {},
     "output_type": "execute_result"
    }
   ],
   "source": [
    "Y"
   ]
  },
  {
   "cell_type": "code",
   "execution_count": 64,
   "metadata": {},
   "outputs": [
    {
     "name": "stdout",
     "output_type": "stream",
     "text": [
      "[[3.60074627 0.         0.         0.         0.         0.        ]\n",
      " [5.         0.         0.         0.         0.         0.        ]\n",
      " [1.26865672 0.         0.         0.         0.         0.        ]\n",
      " [0.         0.         0.         0.         0.         0.        ]\n",
      " [1.96828358 0.         0.         0.         0.         0.        ]\n",
      " [4.76679104 0.         0.         0.         0.         0.        ]\n",
      " [4.13712687 0.         0.         0.         0.         0.        ]\n",
      " [3.13432836 0.         0.         0.         0.         0.        ]\n",
      " [3.36753731 0.         0.         0.         0.         0.        ]]\n"
     ]
    }
   ],
   "source": [
    "print(X_scaled)"
   ]
  },
  {
   "cell_type": "code",
   "execution_count": 65,
   "metadata": {},
   "outputs": [
    {
     "name": "stdout",
     "output_type": "stream",
     "text": [
      "[ 1.15298507 -2.          0.          0.          0.          0.        ]\n"
     ]
    }
   ],
   "source": [
    "print(scaled[0])"
   ]
  },
  {
   "cell_type": "code",
   "execution_count": 67,
   "metadata": {},
   "outputs": [
    {
     "data": {
      "image/png": "[encoded data removed]",
      "text/plain": [
       "<Figure size 432x288 with 1 Axes>"
      ]
     },
     "metadata": {
      "needs_background": "light"
     },
     "output_type": "display_data"
    }
   ],
   "source": [
    "fig, ax = plt.subplots()\n",
    "\n",
    "x = X_scaled[:,0]\n",
    "y = X_scaled[:,1]\n",
    "#pred = neigh.predict(np.array(X_scaled))\n",
    "ax.scatter(x, y)\n",
    "\n",
    "for i in range(len(x)):\n",
    "    ax.annotate(Y.iloc[i][\"outfitId\"], (x[i], y[i]))"
   ]
  },
  {
   "cell_type": "code",
   "execution_count": null,
   "metadata": {},
   "outputs": [],
   "source": []
  },
  {
   "cell_type": "code",
   "execution_count": null,
   "metadata": {},
   "outputs": [],
   "source": []
  }
 ],
 "metadata": {
  "kernelspec": {
   "display_name": "Python 3",
   "language": "python",
   "name": "python3"
  },
  "language_info": {
   "codemirror_mode": {
    "name": "ipython",
    "version": 3
   },
   "file_extension": ".py",
   "mimetype": "text/x-python",
   "name": "python",
   "nbconvert_exporter": "python",
   "pygments_lexer": "ipython3",
   "version": "3.7.6"
  }
 },
 "nbformat": 4,
 "nbformat_minor": 4
}
