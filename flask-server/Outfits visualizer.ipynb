{
 "cells": [
  {
   "cell_type": "code",
   "execution_count": 1,
   "metadata": {},
   "outputs": [],
   "source": [
    "import pymongo\n",
    "from pymongo import ReturnDocument\n",
    "import pandas as pd\n",
    "from sklearn import preprocessing\n",
    "from sklearn.neighbors import KNeighborsClassifier\n",
    "\n",
    "\n",
    "client = pymongo.MongoClient(\"localhost\", 27017)\n",
    "db = client.outfitPlanner"
   ]
  },
  {
   "cell_type": "code",
   "execution_count": 59,
   "metadata": {},
   "outputs": [],
   "source": [
    "outfits = list(db.worns.find({}))"
   ]
  },
  {
   "cell_type": "code",
   "execution_count": 341,
   "metadata": {},
   "outputs": [],
   "source": [
    "def getWornTimes(outfit):\n",
    "    if outfit.get(\"outfitId\") == None:\n",
    "        return 1\n",
    "    else:\n",
    "        return db.worns.count_documents({\"outfitId\": outfit[\"outfitId\"]})\n",
    "    "
   ]
  },
  {
   "cell_type": "code",
   "execution_count": 334,
   "metadata": {},
   "outputs": [],
   "source": [
    "dataMapper = lambda outfit: {\n",
    "    \"temp\": outfit[\"weather\"][\"temp\"],\n",
    "    \"worn_times\": getWornTimes(outfit),\n",
    "    \"clouds\": outfit[\"weather\"][\"clouds\"],\n",
    "    \"humidity\": outfit[\"weather\"][\"humidity\"],\n",
    "    \"pressure\": outfit[\"weather\"][\"pressure\"],\n",
    "    \"wind_speed\": outfit[\"weather\"][\"wind_speed\"]\n",
    "}"
   ]
  },
  {
   "cell_type": "code",
   "execution_count": 335,
   "metadata": {},
   "outputs": [],
   "source": [
    "data = [dataMapper(outfit) for outfit in outfits ]"
   ]
  },
  {
   "cell_type": "code",
   "execution_count": null,
   "metadata": {},
   "outputs": [],
   "source": []
  },
  {
   "cell_type": "code",
   "execution_count": 336,
   "metadata": {},
   "outputs": [],
   "source": [
    "y_data = pd.DataFrame(outfits)\n",
    "Y = y_data.loc[:, y_data.columns == \"outfitId\"]\n",
    "\n",
    "df = pd.DataFrame(data)\n",
    "X = df.loc[:, df.columns != 'outfitId']\n",
    "#scaler = preprocessing.StandardScaler().fit(X)\n",
    "scaler = preprocessing.MinMaxScaler().fit(X)\n",
    "X_scaled = scaler.transform(X)"
   ]
  },
  {
   "cell_type": "code",
   "execution_count": 338,
   "metadata": {},
   "outputs": [],
   "source": [
    "#scale temp and worn_times\n",
    "X_scaled[:, 0] *= 5\n",
    "X_scaled[:, 1] *= 2"
   ]
  },
  {
   "cell_type": "code",
   "execution_count": 339,
   "metadata": {},
   "outputs": [
    {
     "data": {
      "text/plain": [
       "array([[3.60074627, 0.44444444, 0.        , 0.        , 0.        ,\n",
       "        0.        ],\n",
       "       [5.        , 0.        , 0.        , 0.        , 0.        ,\n",
       "        0.        ],\n",
       "       [1.26865672, 1.28888889, 0.        , 0.        , 0.        ,\n",
       "        0.        ],\n",
       "       [0.        , 0.26666667, 0.        , 0.        , 0.        ,\n",
       "        0.        ],\n",
       "       [1.96828358, 1.51111111, 0.        , 0.        , 0.        ,\n",
       "        0.        ],\n",
       "       [4.76679104, 1.42222222, 0.        , 0.        , 0.        ,\n",
       "        0.        ],\n",
       "       [4.13712687, 2.        , 0.        , 0.        , 0.        ,\n",
       "        0.        ],\n",
       "       [3.13432836, 0.13333333, 0.        , 0.        , 0.        ,\n",
       "        0.        ],\n",
       "       [3.36753731, 1.02222222, 0.        , 0.        , 0.        ,\n",
       "        0.        ]])"
      ]
     },
     "execution_count": 339,
     "metadata": {},
     "output_type": "execute_result"
    }
   ],
   "source": [
    "X_scaled"
   ]
  },
  {
   "cell_type": "code",
   "execution_count": 340,
   "metadata": {},
   "outputs": [
    {
     "data": {
      "text/plain": [
       "[<matplotlib.lines.Line2D at 0x218bf0e4848>]"
      ]
     },
     "execution_count": 340,
     "metadata": {},
     "output_type": "execute_result"
    },
    {
     "data": {
      "image/png": "[encoded data removed]",
      "text/plain": [
       "<Figure size 432x288 with 1 Axes>"
      ]
     },
     "metadata": {
      "needs_background": "light"
     },
     "output_type": "display_data"
    }
   ],
   "source": [
    "plt.axis('equal')\n",
    "plt.plot(X_scaled[:, 0], X_scaled[:, 1], 'o', color='black')"
   ]
  },
  {
   "cell_type": "code",
   "execution_count": null,
   "metadata": {},
   "outputs": [],
   "source": []
  },
  {
   "cell_type": "code",
   "execution_count": 237,
   "metadata": {},
   "outputs": [
    {
     "name": "stderr",
     "output_type": "stream",
     "text": [
      "c:\\users\\adam\\projekty\\outfit-planner\\flask-server\\op\\lib\\site-packages\\ipykernel_launcher.py:2: DataConversionWarning: A column-vector y was passed when a 1d array was expected. Please change the shape of y to (n_samples, ), for example using ravel().\n",
      "  \n"
     ]
    },
    {
     "data": {
      "text/plain": [
       "KNeighborsClassifier(n_neighbors=3)"
      ]
     },
     "execution_count": 237,
     "metadata": {},
     "output_type": "execute_result"
    }
   ],
   "source": [
    "neigh = KNeighborsClassifier(n_neighbors=3)\n",
    "neigh.fit(X_scaled, Y)"
   ]
  },
  {
   "cell_type": "code",
   "execution_count": 238,
   "metadata": {},
   "outputs": [],
   "source": [
    "import numpy as np\n",
    "newCase = np.array([[3, 82, 1004, 50, 4.32]])\n",
    "\n",
    "newOutfit = dict({\n",
    "    \"weather\": dict({\n",
    "        \"clouds\": 3,\n",
    "        \"humidity\": 82,\n",
    "        \"pressure\": 1004,\n",
    "        \"temp\": 15,\n",
    "         \"wind_speed\": 4.32\n",
    "    })\n",
    "})\n",
    "newOutfitWeighted = dataMapper(newOutfit)\n",
    "newCase = [newOutfitWeighted]"
   ]
  },
  {
   "cell_type": "code",
   "execution_count": 239,
   "metadata": {},
   "outputs": [],
   "source": [
    "newCaseDf = pd.DataFrame(newCase)"
   ]
  },
  {
   "cell_type": "code",
   "execution_count": 240,
   "metadata": {},
   "outputs": [],
   "source": [
    "scaled = scaler.transform(newCaseDf[0:1])\n",
    "pred_proba = neigh.predict_proba(scaled)\n",
    "pred_proba = pred_proba[0]"
   ]
  },
  {
   "cell_type": "code",
   "execution_count": 241,
   "metadata": {},
   "outputs": [
    {
     "data": {
      "text/plain": [
       "array([0.66666667, 0.33333333, 0.        ])"
      ]
     },
     "execution_count": 241,
     "metadata": {},
     "output_type": "execute_result"
    }
   ],
   "source": [
    "pred_proba"
   ]
  },
  {
   "cell_type": "code",
   "execution_count": 69,
   "metadata": {},
   "outputs": [],
   "source": [
    "zipped = zip(neigh.classes_, pred_proba)"
   ]
  },
  {
   "cell_type": "code",
   "execution_count": 55,
   "metadata": {},
   "outputs": [],
   "source": [
    "sortedOutfits = sorted(zipped, key = lambda t: -t[1])"
   ]
  },
  {
   "cell_type": "code",
   "execution_count": 56,
   "metadata": {},
   "outputs": [
    {
     "data": {
      "text/plain": [
       "[(36, 0.6666666666666666), (37, 0.3333333333333333), (38, 0.0)]"
      ]
     },
     "execution_count": 56,
     "metadata": {},
     "output_type": "execute_result"
    }
   ],
   "source": [
    "sortedOutfits"
   ]
  },
  {
   "cell_type": "code",
   "execution_count": 88,
   "metadata": {},
   "outputs": [],
   "source": [
    "\n",
    "res = np.array([list(db.outfits.find({\"id\": int(x[0])})) for x in sortedOutfits]).flatten()"
   ]
  },
  {
   "cell_type": "code",
   "execution_count": 91,
   "metadata": {},
   "outputs": [
    {
     "data": {
      "text/plain": [
       "{'_id': ObjectId('5fd3c9e802eed4d62f4e7366'),\n",
       " 'shoeUri': {'id': 13,\n",
       "  'localUri': 'file:/data/user/0/host.exp.exponent/files/ExperienceData/%2540nieobranekiwi%252FoutfitPlanner/0ccc81a5-8cbf-4945-8fa7-7c38c38ea39a.jpg'},\n",
       " 'socksUri': {'id': 36,\n",
       "  'localUri': 'file:/data/user/0/host.exp.exponent/files/ExperienceData/%2540nieobranekiwi%252FoutfitPlanner/044ea4a7-332b-4c0c-aa86-c67b82292373.jpg'},\n",
       " 'tshirtUri': {'id': 20,\n",
       "  'localUri': 'file:/data/user/0/host.exp.exponent/files/ExperienceData/%2540nieobranekiwi%252FoutfitPlanner/ff71ccfb-0219-4d60-8b03-63cbff8e16ab.jpg'},\n",
       " 'trouserUri': {'id': 24,\n",
       "  'localUri': 'file:/data/user/0/host.exp.exponent/files/ExperienceData/%2540nieobranekiwi%252FoutfitPlanner/28821799-d589-47e3-8478-6f2cd7c73b58.jpg'},\n",
       " 'rain': False,\n",
       " 'id': 37}"
      ]
     },
     "execution_count": 91,
     "metadata": {},
     "output_type": "execute_result"
    }
   ],
   "source": []
  },
  {
   "cell_type": "code",
   "execution_count": 81,
   "metadata": {},
   "outputs": [
    {
     "data": {
      "text/plain": [
       "36"
      ]
     },
     "execution_count": 81,
     "metadata": {},
     "output_type": "execute_result"
    }
   ],
   "source": [
    "int(sortedOutfits[0][0])"
   ]
  },
  {
   "cell_type": "code",
   "execution_count": 64,
   "metadata": {},
   "outputs": [],
   "source": [
    "outfit = db.outfits.find({\"id\": 36})"
   ]
  },
  {
   "cell_type": "code",
   "execution_count": 65,
   "metadata": {},
   "outputs": [
    {
     "data": {
      "text/plain": [
       "<pymongo.cursor.Cursor at 0x16d3c336c08>"
      ]
     },
     "execution_count": 65,
     "metadata": {},
     "output_type": "execute_result"
    }
   ],
   "source": []
  },
  {
   "cell_type": "code",
   "execution_count": 192,
   "metadata": {},
   "outputs": [],
   "source": [
    "%matplotlib inline\n",
    "import matplotlib.pyplot as plt"
   ]
  },
  {
   "cell_type": "code",
   "execution_count": null,
   "metadata": {},
   "outputs": [],
   "source": [
    "plt.plot(X[\"temp\"], X[\"clouds\"], 'o', color='black');"
   ]
  },
  {
   "cell_type": "code",
   "execution_count": null,
   "metadata": {},
   "outputs": [],
   "source": [
    "fig, ax = plt.subplots()\n",
    "\n",
    "x = X[\"temp\"]\n",
    "y = X[\"pressure\"]\n",
    "pred = neigh.predict(np.array(X_scaled))\n",
    "ax.scatter(x, y)\n",
    "\n",
    "for i in range(len(x)):\n",
    "    ax.annotate(pred[i], (x[i], y[i]))"
   ]
  },
  {
   "cell_type": "code",
   "execution_count": null,
   "metadata": {},
   "outputs": [],
   "source": [
    "fig, ax = plt.subplots()\n",
    "\n",
    "x = X[\"temp\"]\n",
    "y = X[\"pressure\"]\n",
    "pred = neigh.predict(np.array(X_scaled))\n",
    "ax.scatter(x, y)\n",
    "yy = Y[\"outfitId\"]\n",
    "for i in range(len(x)):\n",
    "    ax.annotate(yy[i], (x[i], y[i]))"
   ]
  },
  {
   "cell_type": "code",
   "execution_count": null,
   "metadata": {},
   "outputs": [],
   "source": []
  },
  {
   "cell_type": "code",
   "execution_count": null,
   "metadata": {},
   "outputs": [],
   "source": []
  }
 ],
 "metadata": {
  "kernelspec": {
   "display_name": "Python 3",
   "language": "python",
   "name": "python3"
  },
  "language_info": {
   "codemirror_mode": {
    "name": "ipython",
    "version": 3
   },
   "file_extension": ".py",
   "mimetype": "text/x-python",
   "name": "python",
   "nbconvert_exporter": "python",
   "pygments_lexer": "ipython3",
   "version": "3.7.6"
  }
 },
 "nbformat": 4,
 "nbformat_minor": 4
}
